{
 "cells": [
  {
   "cell_type": "markdown",
   "metadata": {},
   "source": [
    "## Cropping Faces from Images using OpenCV2"
   ]
  },
  {
   "cell_type": "code",
   "execution_count": 8,
   "metadata": {
    "collapsed": true
   },
   "outputs": [],
   "source": [
    "import cv2\n",
    "\n",
    "def cropface(imagePath):\n",
    "    # Load faceClassifier\n",
    "    faceClassifier = cv2.CascadeClassifier('./haarcascade_frontalface_default.xml')\n",
    "    \n",
    "    # Read Image\n",
    "    img = cv2.imread(imagePath)\n",
    "    \n",
    "    # Change image to gray_scale(two-dimension)\n",
    "    gray = cv2.cvtColor(img, cv2.COLOR_BGR2GRAY)\n",
    "    \n",
    "    # Detect faces\n",
    "    faces =faceClassifier.detectMultiScale(\n",
    "        gray,\n",
    "        scaleFactor=1.1,\n",
    "        minNeighbors=10,\n",
    "        minSize=(50,50)\n",
    "    )\n",
    "    \n",
    "    # Draw rectangle on each face\n",
    "    for face in faces:\n",
    "        x, y, w, h = [V for V in face] # Vertices in face\n",
    "        cv2.rectangle(gray, (x, y), (x+w, y+h), (0, 255, 0))\n",
    "        \n",
    "        # Crop face from image\n",
    "        sub_face = gray[y:y+h, x:x+w] # Region of interest\n",
    "        \n",
    "        # Resize sub_face image\n",
    "        newx, newy = 70, 70 # width, height\n",
    "        resized_sub_face = cv2.resize(sub_face, (newx, newy))\n",
    "        \n",
    "#         # Save resized_sub_face_file\n",
    "#         face_file_name = './pictures/3-1/' + imagePath.split('/')[3]\n",
    "#         cv2.imwrite(face_file_name, resized_sub_face)\n",
    "        print(resized_sub_face.shape)\n",
    "    \n",
    "#     # show image\n",
    "#     cv2.imshow('original image', gray)\n",
    "#     cv2.imshow('subface', sub_face)\n",
    "#     cv2.waitKey(0)"
   ]
  },
  {
   "cell_type": "code",
   "execution_count": 9,
   "metadata": {
    "collapsed": false
   },
   "outputs": [
    {
     "name": "stdout",
     "output_type": "stream",
     "text": [
      "(70, 70)\n"
     ]
    }
   ],
   "source": [
    "cropface('./pictures/3/40.jpg')"
   ]
  },
  {
   "cell_type": "code",
   "execution_count": 3,
   "metadata": {
    "collapsed": true
   },
   "outputs": [],
   "source": [
    "import numpy as np"
   ]
  },
  {
   "cell_type": "code",
   "execution_count": 10,
   "metadata": {
    "collapsed": true
   },
   "outputs": [],
   "source": [
    "img = cv2.imread('./pictures/3-1/40.jpg')"
   ]
  },
  {
   "cell_type": "code",
   "execution_count": 11,
   "metadata": {
    "collapsed": false
   },
   "outputs": [
    {
     "data": {
      "text/plain": [
       "(70, 70, 3)"
      ]
     },
     "execution_count": 11,
     "metadata": {},
     "output_type": "execute_result"
    }
   ],
   "source": [
    "img.shape"
   ]
  },
  {
   "cell_type": "code",
   "execution_count": 6,
   "metadata": {
    "collapsed": false
   },
   "outputs": [],
   "source": [
    "grayimg = cv2.cvtColor(img, cv2.COLOR_BGR2GRAY)"
   ]
  },
  {
   "cell_type": "code",
   "execution_count": 7,
   "metadata": {
    "collapsed": false
   },
   "outputs": [
    {
     "data": {
      "text/plain": [
       "(70, 70)"
      ]
     },
     "execution_count": 7,
     "metadata": {},
     "output_type": "execute_result"
    }
   ],
   "source": [
    "grayimg.shape"
   ]
  },
  {
   "cell_type": "code",
   "execution_count": 2,
   "metadata": {
    "collapsed": false
   },
   "outputs": [],
   "source": [
    "import glob\n",
    "\n",
    "# get imagePath\n",
    "imgList = glob.glob('./pictures/3/*.jpg')\n",
    "\n",
    "for img in imgList:\n",
    "    cropface(img)"
   ]
  },
  {
   "cell_type": "code",
   "execution_count": null,
   "metadata": {
    "collapsed": true
   },
   "outputs": [],
   "source": [
    "img"
   ]
  }
 ],
 "metadata": {
  "kernelspec": {
   "display_name": "Python 3",
   "language": "python",
   "name": "python3"
  },
  "language_info": {
   "codemirror_mode": {
    "name": "ipython",
    "version": 3
   },
   "file_extension": ".py",
   "mimetype": "text/x-python",
   "name": "python",
   "nbconvert_exporter": "python",
   "pygments_lexer": "ipython3",
   "version": "3.5.1+"
  }
 },
 "nbformat": 4,
 "nbformat_minor": 0
}
